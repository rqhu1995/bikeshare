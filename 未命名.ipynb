{
 "cells": [
  {
   "cell_type": "code",
   "execution_count": 51,
   "metadata": {},
   "outputs": [],
   "source": [
    "a = [[0, 3, 3, 2, 0, 2, 3, 1, 2, 1, 0, 3, 1, 3, 1, 2, 0, 0, 2, 3],\n",
    "             [3, 0, 0, 0, 2, 3, 0, 1, 0, 2, 0, 0, 0, 3, 3, 3, 2, 2, 0, 1],\n",
    "             [0, 1, 0, 1, 0, 0, 0, 0, 0, 1, 0, 0, 0, 0, 0, 1, 0, 1, 1, 1],\n",
    "             [1, 0, 0, 0, 0, 1, 1, 1, 1, 1, 0, 1, 0, 1, 1, 1, 1, 0, 0, 1],\n",
    "             [0, 1, 1, 0, 0, 1, 0, 1, 1, 0, 1, 1, 1, 1, 0, 1, 0, 1, 1, 0],\n",
    "             [1, 3, 0, 3, 2, 0, 0, 2, 3, 3, 2, 2, 0, 0, 3, 1, 1, 3, 3, 2],\n",
    "             [3, 1, 1, 1, 3, 1, 0, 0, 3, 0, 0, 3, 1, 0, 2, 0, 3, 1, 2, 0],\n",
    "             [2, 3, 0, 0, 1, 0, 2, 0, 0, 0, 0, 2, 2, 3, 3, 2, 0, 1, 1, 1],\n",
    "             [3, 0, 2, 2, 0, 0, 2, 2, 0, 2, 0, 2, 0, 0, 1, 2, 1, 0, 2, 2],\n",
    "             [2, 1, 3, 0, 1, 3, 0, 2, 1, 0, 0, 1, 2, 0, 3, 1, 0, 0, 0, 1],\n",
    "             [3, 3, 1, 1, 0, 1, 2, 2, 2, 2, 0, 3, 2, 2, 0, 3, 0, 3, 2, 2],\n",
    "             [3, 0, 0, 0, 0, 3, 0, 3, 2, 1, 3, 0, 3, 3, 2, 2, 1, 2, 3, 2],\n",
    "             [2, 3, 0, 3, 3, 2, 3, 0, 3, 1, 3, 0, 0, 0, 2, 0, 0, 1, 2, 1],\n",
    "             [2, 3, 1, 2, 0, 1, 2, 2, 1, 1, 0, 0, 3, 0, 3, 3, 2, 0, 2, 2],\n",
    "             [1, 3, 3, 1, 3, 2, 0, 1, 3, 0, 3, 0, 0, 1, 0, 0, 3, 3, 3, 3],\n",
    "             [3, 2, 0, 2, 0, 0, 2, 2, 3, 0, 1, 2, 0, 0, 2, 0, 1, 2, 1, 1],\n",
    "             [0, 0, 0, 0, 1, 2, 2, 2, 0, 0, 2, 1, 2, 3, 1, 2, 0, 2, 0, 1],\n",
    "             [1, 1, 2, 2, 0, 3, 3, 2, 2, 2, 2, 2, 2, 2, 3, 3, 2, 0, 0, 2],\n",
    "             [1, 0, 2, 3, 2, 1, 2, 1, 0, 2, 2, 2, 0, 1, 0, 0, 3, 0, 0, 1],\n",
    "             [3, 1, 0, 0, 2, 2, 1, 2, 3, 1, 2, 0, 0, 0, 3, 1, 2, 0, 2, 0]]"
   ]
  },
  {
   "cell_type": "code",
   "execution_count": 52,
   "metadata": {},
   "outputs": [],
   "source": [
    "import numpy as np"
   ]
  },
  {
   "cell_type": "code",
   "execution_count": 53,
   "metadata": {},
   "outputs": [],
   "source": [
    "b = np.array(a)"
   ]
  },
  {
   "cell_type": "code",
   "execution_count": 54,
   "metadata": {},
   "outputs": [
    {
     "data": {
      "text/plain": [
       "array([34, 29, 19, 23, 20, 28, 25, 27, 30, 20, 21, 25, 19, 23, 33, 28, 22,\n",
       "       22, 27, 27])"
      ]
     },
     "execution_count": 54,
     "metadata": {},
     "output_type": "execute_result"
    }
   ],
   "source": [
    "sum(b)"
   ]
  },
  {
   "cell_type": "code",
   "execution_count": 56,
   "metadata": {},
   "outputs": [
    {
     "data": {
      "text/plain": [
       "502"
      ]
     },
     "execution_count": 56,
     "metadata": {},
     "output_type": "execute_result"
    }
   ],
   "source": [
    "sum(sum(b))"
   ]
  },
  {
   "cell_type": "code",
   "execution_count": 2,
   "metadata": {},
   "outputs": [],
   "source": [
    "import pandas as pd\n",
    "import numpy as np\n",
    "\n",
    "\n",
    "pref = '~/project/static_ffbs/bikeshare/resources/data_set/'\n",
    "\n",
    "distance_matrix = pd.read_csv(pref + \"station_dist_matrix_300.csv\").to_numpy()"
   ]
  },
  {
   "cell_type": "code",
   "source": [
    "np.median(distance_matrix[distance_matrix>0])"
   ],
   "metadata": {
    "collapsed": false,
    "pycharm": {
     "name": "#%%\n"
    }
   },
   "execution_count": 13,
   "outputs": [
    {
     "data": {
      "text/plain": "2519.2219140812713"
     },
     "execution_count": 13,
     "metadata": {},
     "output_type": "execute_result"
    }
   ]
  },
  {
   "cell_type": "code",
   "execution_count": 9,
   "outputs": [
    {
     "data": {
      "text/plain": "0.3142857142857143"
     },
     "execution_count": 9,
     "metadata": {},
     "output_type": "execute_result"
    }
   ],
   "source": [
    "132/420"
   ],
   "metadata": {
    "collapsed": false,
    "pycharm": {
     "name": "#%%\n"
    }
   }
  },
  {
   "cell_type": "code",
   "execution_count": 15,
   "outputs": [
    {
     "data": {
      "text/plain": "6.495238095238095"
     },
     "execution_count": 15,
     "metadata": {},
     "output_type": "execute_result"
    }
   ],
   "source": [
    "2728 / 420"
   ],
   "metadata": {
    "collapsed": false,
    "pycharm": {
     "name": "#%%\n"
    }
   }
  },
  {
   "cell_type": "code",
   "execution_count": null,
   "outputs": [],
   "source": [],
   "metadata": {
    "collapsed": false,
    "pycharm": {
     "name": "#%%\n"
    }
   }
  }
 ],
 "metadata": {
  "kernelspec": {
   "display_name": "Python 3",
   "language": "python",
   "name": "python3"
  },
  "language_info": {
   "codemirror_mode": {
    "name": "ipython",
    "version": 3
   },
   "file_extension": ".py",
   "mimetype": "text/x-python",
   "name": "python",
   "nbconvert_exporter": "python",
   "pygments_lexer": "ipython3",
   "version": "3.7.7"
  }
 },
 "nbformat": 4,
 "nbformat_minor": 2
}