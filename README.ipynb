{
 "cells": [
  {
   "cell_type": "markdown",
   "metadata": {},
   "source": [
    "# Model 1: Only User's demand are considered\n",
    "\n",
    "Optimized using model provided in paper [综合考量借还车需求与调度成本的公共自行车调度优化模型.pdf](https://dl3.pushbulletusercontent.com/sAfuacFivpas1rKHCnVtl4aoqVgnK56d/综合考量借还车需求与调度成本的公共自行车调度优化模型.pdf)\n",
    "\n",
    "<img src=\"https://dl3.pushbulletusercontent.com/Kn4IpJUiALil03i7bScfbH3O6vPZtywz/image.png\" alt=\"image-20200620215455778\" style=\"zoom:50%;\" />\n",
    "\n",
    "object (2) is dismissed for now\n",
    "\n",
    "## encoding\n",
    "\n",
    "- bike amount at each station as a vector, population of 300 at first.\n",
    "\n",
    "- constraint $\\sum\\limits_{i}^{n} x_i=800$\n",
    "- constraint $x_i \\le l_i$ where $l_i$ is the number of docks at each station \n",
    "\n",
    "## selection\n",
    "\n",
    "tournament only\n",
    "\n",
    "## crossover\n",
    "\n",
    "single crossover, with probability of 0.5\n",
    "\n",
    "## mutation\n",
    "\n",
    "single mutation, with probability of 0.01\n",
    "\n",
    "## result\n",
    "\n",
    "best optimization i.e. fitness value is 502 (**in theory**, run with [Minizinc](https://www.minizinc.org/) with solver [Google OR-tools](https://developers.google.com/optimization/))\n",
    "\n",
    "GA also generate solution with 502, with frequency of once in every 20 times.\n",
    "\n",
    "Plot of fitness value change according to iteration time (example with solution 502):\n",
    "\n",
    "<img src=\"https://dl3.pushbulletusercontent.com/fSY3ZsmzaSqeRncClTkIqVtIHwOU2SP1/image.png\" alt=\"image-20200620220422959\" style=\"zoom:50%;\" />\n",
    "\n",
    "# Model 2: Consider Truck Scheduling \n",
    "\n",
    "TBA..."
   ]
  },
  {
   "cell_type": "code",
   "execution_count": null,
   "metadata": {},
   "outputs": [],
   "source": []
  }
 ],
 "metadata": {
  "kernelspec": {
   "display_name": "Python 3",
   "language": "python",
   "name": "python3"
  },
  "language_info": {
   "codemirror_mode": {
    "name": "ipython",
    "version": 3
   },
   "file_extension": ".py",
   "mimetype": "text/x-python",
   "name": "python",
   "nbconvert_exporter": "python",
   "pygments_lexer": "ipython3",
   "version": "3.7.7"
  }
 },
 "nbformat": 4,
 "nbformat_minor": 2
}
